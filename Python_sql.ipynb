{
  "nbformat": 4,
  "nbformat_minor": 0,
  "metadata": {
    "colab": {
      "name": "Python_sql.ipynb",
      "provenance": [],
      "collapsed_sections": [],
      "authorship_tag": "ABX9TyNMACXzeDuUUGT+5nRjtAU0",
      "include_colab_link": true
    },
    "kernelspec": {
      "name": "python3",
      "display_name": "Python 3"
    },
    "language_info": {
      "name": "python"
    }
  },
  "cells": [
    {
      "cell_type": "markdown",
      "metadata": {
        "id": "view-in-github",
        "colab_type": "text"
      },
      "source": [
        "<a href=\"https://colab.research.google.com/github/cryptobills/Sql-with-python/blob/main/Python_sql.ipynb\" target=\"_parent\"><img src=\"https://colab.research.google.com/assets/colab-badge.svg\" alt=\"Open In Colab\"/></a>"
      ]
    },
    {
      "cell_type": "markdown",
      "metadata": {
        "id": "fLIkhN0LWAYC"
      },
      "source": [
        "**WRITING SQL SYNTAX on Python libraries using cell magic**"
      ]
    },
    {
      "cell_type": "markdown",
      "metadata": {
        "id": "0h2Av2WPW3pq"
      },
      "source": [
        "*#1 import pandas for reading the dataset(csv) however, good knowledge of unzipping and extracting .tar and .zip file would help as most files exported from an sql database is zipped.*"
      ]
    },
    {
      "cell_type": "code",
      "metadata": {
        "id": "71dYGklCo5eh"
      },
      "source": [
        "import pandas as pd"
      ],
      "execution_count": null,
      "outputs": []
    },
    {
      "cell_type": "markdown",
      "metadata": {
        "id": "LmHwTjrwXkvI"
      },
      "source": [
        "link to dataset: 'https://sds-platform-private.s3-us-east-2.amazonaws.com/uploads/P9-ConsumerComplaints.csv'"
      ]
    },
    {
      "cell_type": "code",
      "metadata": {
        "colab": {
          "resources": {
            "http://localhost:8080/nbextensions/google.colab/files.js": {
              "data": "Ly8gQ29weXJpZ2h0IDIwMTcgR29vZ2xlIExMQwovLwovLyBMaWNlbnNlZCB1bmRlciB0aGUgQXBhY2hlIExpY2Vuc2UsIFZlcnNpb24gMi4wICh0aGUgIkxpY2Vuc2UiKTsKLy8geW91IG1heSBub3QgdXNlIHRoaXMgZmlsZSBleGNlcHQgaW4gY29tcGxpYW5jZSB3aXRoIHRoZSBMaWNlbnNlLgovLyBZb3UgbWF5IG9idGFpbiBhIGNvcHkgb2YgdGhlIExpY2Vuc2UgYXQKLy8KLy8gICAgICBodHRwOi8vd3d3LmFwYWNoZS5vcmcvbGljZW5zZXMvTElDRU5TRS0yLjAKLy8KLy8gVW5sZXNzIHJlcXVpcmVkIGJ5IGFwcGxpY2FibGUgbGF3IG9yIGFncmVlZCB0byBpbiB3cml0aW5nLCBzb2Z0d2FyZQovLyBkaXN0cmlidXRlZCB1bmRlciB0aGUgTGljZW5zZSBpcyBkaXN0cmlidXRlZCBvbiBhbiAiQVMgSVMiIEJBU0lTLAovLyBXSVRIT1VUIFdBUlJBTlRJRVMgT1IgQ09ORElUSU9OUyBPRiBBTlkgS0lORCwgZWl0aGVyIGV4cHJlc3Mgb3IgaW1wbGllZC4KLy8gU2VlIHRoZSBMaWNlbnNlIGZvciB0aGUgc3BlY2lmaWMgbGFuZ3VhZ2UgZ292ZXJuaW5nIHBlcm1pc3Npb25zIGFuZAovLyBsaW1pdGF0aW9ucyB1bmRlciB0aGUgTGljZW5zZS4KCi8qKgogKiBAZmlsZW92ZXJ2aWV3IEhlbHBlcnMgZm9yIGdvb2dsZS5jb2xhYiBQeXRob24gbW9kdWxlLgogKi8KKGZ1bmN0aW9uKHNjb3BlKSB7CmZ1bmN0aW9uIHNwYW4odGV4dCwgc3R5bGVBdHRyaWJ1dGVzID0ge30pIHsKICBjb25zdCBlbGVtZW50ID0gZG9jdW1lbnQuY3JlYXRlRWxlbWVudCgnc3BhbicpOwogIGVsZW1lbnQudGV4dENvbnRlbnQgPSB0ZXh0OwogIGZvciAoY29uc3Qga2V5IG9mIE9iamVjdC5rZXlzKHN0eWxlQXR0cmlidXRlcykpIHsKICAgIGVsZW1lbnQuc3R5bGVba2V5XSA9IHN0eWxlQXR0cmlidXRlc1trZXldOwogIH0KICByZXR1cm4gZWxlbWVudDsKfQoKLy8gTWF4IG51bWJlciBvZiBieXRlcyB3aGljaCB3aWxsIGJlIHVwbG9hZGVkIGF0IGEgdGltZS4KY29uc3QgTUFYX1BBWUxPQURfU0laRSA9IDEwMCAqIDEwMjQ7CgpmdW5jdGlvbiBfdXBsb2FkRmlsZXMoaW5wdXRJZCwgb3V0cHV0SWQpIHsKICBjb25zdCBzdGVwcyA9IHVwbG9hZEZpbGVzU3RlcChpbnB1dElkLCBvdXRwdXRJZCk7CiAgY29uc3Qgb3V0cHV0RWxlbWVudCA9IGRvY3VtZW50LmdldEVsZW1lbnRCeUlkKG91dHB1dElkKTsKICAvLyBDYWNoZSBzdGVwcyBvbiB0aGUgb3V0cHV0RWxlbWVudCB0byBtYWtlIGl0IGF2YWlsYWJsZSBmb3IgdGhlIG5leHQgY2FsbAogIC8vIHRvIHVwbG9hZEZpbGVzQ29udGludWUgZnJvbSBQeXRob24uCiAgb3V0cHV0RWxlbWVudC5zdGVwcyA9IHN0ZXBzOwoKICByZXR1cm4gX3VwbG9hZEZpbGVzQ29udGludWUob3V0cHV0SWQpOwp9CgovLyBUaGlzIGlzIHJvdWdobHkgYW4gYXN5bmMgZ2VuZXJhdG9yIChub3Qgc3VwcG9ydGVkIGluIHRoZSBicm93c2VyIHlldCksCi8vIHdoZXJlIHRoZXJlIGFyZSBtdWx0aXBsZSBhc3luY2hyb25vdXMgc3RlcHMgYW5kIHRoZSBQeXRob24gc2lkZSBpcyBnb2luZwovLyB0byBwb2xsIGZvciBjb21wbGV0aW9uIG9mIGVhY2ggc3RlcC4KLy8gVGhpcyB1c2VzIGEgUHJvbWlzZSB0byBibG9jayB0aGUgcHl0aG9uIHNpZGUgb24gY29tcGxldGlvbiBvZiBlYWNoIHN0ZXAsCi8vIHRoZW4gcGFzc2VzIHRoZSByZXN1bHQgb2YgdGhlIHByZXZpb3VzIHN0ZXAgYXMgdGhlIGlucHV0IHRvIHRoZSBuZXh0IHN0ZXAuCmZ1bmN0aW9uIF91cGxvYWRGaWxlc0NvbnRpbnVlKG91dHB1dElkKSB7CiAgY29uc3Qgb3V0cHV0RWxlbWVudCA9IGRvY3VtZW50LmdldEVsZW1lbnRCeUlkKG91dHB1dElkKTsKICBjb25zdCBzdGVwcyA9IG91dHB1dEVsZW1lbnQuc3RlcHM7CgogIGNvbnN0IG5leHQgPSBzdGVwcy5uZXh0KG91dHB1dEVsZW1lbnQubGFzdFByb21pc2VWYWx1ZSk7CiAgcmV0dXJuIFByb21pc2UucmVzb2x2ZShuZXh0LnZhbHVlLnByb21pc2UpLnRoZW4oKHZhbHVlKSA9PiB7CiAgICAvLyBDYWNoZSB0aGUgbGFzdCBwcm9taXNlIHZhbHVlIHRvIG1ha2UgaXQgYXZhaWxhYmxlIHRvIHRoZSBuZXh0CiAgICAvLyBzdGVwIG9mIHRoZSBnZW5lcmF0b3IuCiAgICBvdXRwdXRFbGVtZW50Lmxhc3RQcm9taXNlVmFsdWUgPSB2YWx1ZTsKICAgIHJldHVybiBuZXh0LnZhbHVlLnJlc3BvbnNlOwogIH0pOwp9CgovKioKICogR2VuZXJhdG9yIGZ1bmN0aW9uIHdoaWNoIGlzIGNhbGxlZCBiZXR3ZWVuIGVhY2ggYXN5bmMgc3RlcCBvZiB0aGUgdXBsb2FkCiAqIHByb2Nlc3MuCiAqIEBwYXJhbSB7c3RyaW5nfSBpbnB1dElkIEVsZW1lbnQgSUQgb2YgdGhlIGlucHV0IGZpbGUgcGlja2VyIGVsZW1lbnQuCiAqIEBwYXJhbSB7c3RyaW5nfSBvdXRwdXRJZCBFbGVtZW50IElEIG9mIHRoZSBvdXRwdXQgZGlzcGxheS4KICogQHJldHVybiB7IUl0ZXJhYmxlPCFPYmplY3Q+fSBJdGVyYWJsZSBvZiBuZXh0IHN0ZXBzLgogKi8KZnVuY3Rpb24qIHVwbG9hZEZpbGVzU3RlcChpbnB1dElkLCBvdXRwdXRJZCkgewogIGNvbnN0IGlucHV0RWxlbWVudCA9IGRvY3VtZW50LmdldEVsZW1lbnRCeUlkKGlucHV0SWQpOwogIGlucHV0RWxlbWVudC5kaXNhYmxlZCA9IGZhbHNlOwoKICBjb25zdCBvdXRwdXRFbGVtZW50ID0gZG9jdW1lbnQuZ2V0RWxlbWVudEJ5SWQob3V0cHV0SWQpOwogIG91dHB1dEVsZW1lbnQuaW5uZXJIVE1MID0gJyc7CgogIGNvbnN0IHBpY2tlZFByb21pc2UgPSBuZXcgUHJvbWlzZSgocmVzb2x2ZSkgPT4gewogICAgaW5wdXRFbGVtZW50LmFkZEV2ZW50TGlzdGVuZXIoJ2NoYW5nZScsIChlKSA9PiB7CiAgICAgIHJlc29sdmUoZS50YXJnZXQuZmlsZXMpOwogICAgfSk7CiAgfSk7CgogIGNvbnN0IGNhbmNlbCA9IGRvY3VtZW50LmNyZWF0ZUVsZW1lbnQoJ2J1dHRvbicpOwogIGlucHV0RWxlbWVudC5wYXJlbnRFbGVtZW50LmFwcGVuZENoaWxkKGNhbmNlbCk7CiAgY2FuY2VsLnRleHRDb250ZW50ID0gJ0NhbmNlbCB1cGxvYWQnOwogIGNvbnN0IGNhbmNlbFByb21pc2UgPSBuZXcgUHJvbWlzZSgocmVzb2x2ZSkgPT4gewogICAgY2FuY2VsLm9uY2xpY2sgPSAoKSA9PiB7CiAgICAgIHJlc29sdmUobnVsbCk7CiAgICB9OwogIH0pOwoKICAvLyBXYWl0IGZvciB0aGUgdXNlciB0byBwaWNrIHRoZSBmaWxlcy4KICBjb25zdCBmaWxlcyA9IHlpZWxkIHsKICAgIHByb21pc2U6IFByb21pc2UucmFjZShbcGlja2VkUHJvbWlzZSwgY2FuY2VsUHJvbWlzZV0pLAogICAgcmVzcG9uc2U6IHsKICAgICAgYWN0aW9uOiAnc3RhcnRpbmcnLAogICAgfQogIH07CgogIGNhbmNlbC5yZW1vdmUoKTsKCiAgLy8gRGlzYWJsZSB0aGUgaW5wdXQgZWxlbWVudCBzaW5jZSBmdXJ0aGVyIHBpY2tzIGFyZSBub3QgYWxsb3dlZC4KICBpbnB1dEVsZW1lbnQuZGlzYWJsZWQgPSB0cnVlOwoKICBpZiAoIWZpbGVzKSB7CiAgICByZXR1cm4gewogICAgICByZXNwb25zZTogewogICAgICAgIGFjdGlvbjogJ2NvbXBsZXRlJywKICAgICAgfQogICAgfTsKICB9CgogIGZvciAoY29uc3QgZmlsZSBvZiBmaWxlcykgewogICAgY29uc3QgbGkgPSBkb2N1bWVudC5jcmVhdGVFbGVtZW50KCdsaScpOwogICAgbGkuYXBwZW5kKHNwYW4oZmlsZS5uYW1lLCB7Zm9udFdlaWdodDogJ2JvbGQnfSkpOwogICAgbGkuYXBwZW5kKHNwYW4oCiAgICAgICAgYCgke2ZpbGUudHlwZSB8fCAnbi9hJ30pIC0gJHtmaWxlLnNpemV9IGJ5dGVzLCBgICsKICAgICAgICBgbGFzdCBtb2RpZmllZDogJHsKICAgICAgICAgICAgZmlsZS5sYXN0TW9kaWZpZWREYXRlID8gZmlsZS5sYXN0TW9kaWZpZWREYXRlLnRvTG9jYWxlRGF0ZVN0cmluZygpIDoKICAgICAgICAgICAgICAgICAgICAgICAgICAgICAgICAgICAgJ24vYSd9IC0gYCkpOwogICAgY29uc3QgcGVyY2VudCA9IHNwYW4oJzAlIGRvbmUnKTsKICAgIGxpLmFwcGVuZENoaWxkKHBlcmNlbnQpOwoKICAgIG91dHB1dEVsZW1lbnQuYXBwZW5kQ2hpbGQobGkpOwoKICAgIGNvbnN0IGZpbGVEYXRhUHJvbWlzZSA9IG5ldyBQcm9taXNlKChyZXNvbHZlKSA9PiB7CiAgICAgIGNvbnN0IHJlYWRlciA9IG5ldyBGaWxlUmVhZGVyKCk7CiAgICAgIHJlYWRlci5vbmxvYWQgPSAoZSkgPT4gewogICAgICAgIHJlc29sdmUoZS50YXJnZXQucmVzdWx0KTsKICAgICAgfTsKICAgICAgcmVhZGVyLnJlYWRBc0FycmF5QnVmZmVyKGZpbGUpOwogICAgfSk7CiAgICAvLyBXYWl0IGZvciB0aGUgZGF0YSB0byBiZSByZWFkeS4KICAgIGxldCBmaWxlRGF0YSA9IHlpZWxkIHsKICAgICAgcHJvbWlzZTogZmlsZURhdGFQcm9taXNlLAogICAgICByZXNwb25zZTogewogICAgICAgIGFjdGlvbjogJ2NvbnRpbnVlJywKICAgICAgfQogICAgfTsKCiAgICAvLyBVc2UgYSBjaHVua2VkIHNlbmRpbmcgdG8gYXZvaWQgbWVzc2FnZSBzaXplIGxpbWl0cy4gU2VlIGIvNjIxMTU2NjAuCiAgICBsZXQgcG9zaXRpb24gPSAwOwogICAgZG8gewogICAgICBjb25zdCBsZW5ndGggPSBNYXRoLm1pbihmaWxlRGF0YS5ieXRlTGVuZ3RoIC0gcG9zaXRpb24sIE1BWF9QQVlMT0FEX1NJWkUpOwogICAgICBjb25zdCBjaHVuayA9IG5ldyBVaW50OEFycmF5KGZpbGVEYXRhLCBwb3NpdGlvbiwgbGVuZ3RoKTsKICAgICAgcG9zaXRpb24gKz0gbGVuZ3RoOwoKICAgICAgY29uc3QgYmFzZTY0ID0gYnRvYShTdHJpbmcuZnJvbUNoYXJDb2RlLmFwcGx5KG51bGwsIGNodW5rKSk7CiAgICAgIHlpZWxkIHsKICAgICAgICByZXNwb25zZTogewogICAgICAgICAgYWN0aW9uOiAnYXBwZW5kJywKICAgICAgICAgIGZpbGU6IGZpbGUubmFtZSwKICAgICAgICAgIGRhdGE6IGJhc2U2NCwKICAgICAgICB9LAogICAgICB9OwoKICAgICAgbGV0IHBlcmNlbnREb25lID0gZmlsZURhdGEuYnl0ZUxlbmd0aCA9PT0gMCA/CiAgICAgICAgICAxMDAgOgogICAgICAgICAgTWF0aC5yb3VuZCgocG9zaXRpb24gLyBmaWxlRGF0YS5ieXRlTGVuZ3RoKSAqIDEwMCk7CiAgICAgIHBlcmNlbnQudGV4dENvbnRlbnQgPSBgJHtwZXJjZW50RG9uZX0lIGRvbmVgOwoKICAgIH0gd2hpbGUgKHBvc2l0aW9uIDwgZmlsZURhdGEuYnl0ZUxlbmd0aCk7CiAgfQoKICAvLyBBbGwgZG9uZS4KICB5aWVsZCB7CiAgICByZXNwb25zZTogewogICAgICBhY3Rpb246ICdjb21wbGV0ZScsCiAgICB9CiAgfTsKfQoKc2NvcGUuZ29vZ2xlID0gc2NvcGUuZ29vZ2xlIHx8IHt9OwpzY29wZS5nb29nbGUuY29sYWIgPSBzY29wZS5nb29nbGUuY29sYWIgfHwge307CnNjb3BlLmdvb2dsZS5jb2xhYi5fZmlsZXMgPSB7CiAgX3VwbG9hZEZpbGVzLAogIF91cGxvYWRGaWxlc0NvbnRpbnVlLAp9Owp9KShzZWxmKTsK",
              "ok": true,
              "headers": [
                [
                  "content-type",
                  "application/javascript"
                ]
              ],
              "status": 200,
              "status_text": ""
            }
          },
          "base_uri": "https://localhost:8080/",
          "height": 73
        },
        "id": "RXChCZaJqHXq",
        "outputId": "7ae997fc-b82f-45bc-c368-9de2fccd3599"
      },
      "source": [
        "from google.colab import files\n",
        "uploaded = files.upload()"
      ],
      "execution_count": null,
      "outputs": [
        {
          "output_type": "display_data",
          "data": {
            "text/html": [
              "\n",
              "     <input type=\"file\" id=\"files-40516fa4-a695-4eac-824a-0bafee3dfd6e\" name=\"files[]\" multiple disabled\n",
              "        style=\"border:none\" />\n",
              "     <output id=\"result-40516fa4-a695-4eac-824a-0bafee3dfd6e\">\n",
              "      Upload widget is only available when the cell has been executed in the\n",
              "      current browser session. Please rerun this cell to enable.\n",
              "      </output>\n",
              "      <script src=\"/nbextensions/google.colab/files.js\"></script> "
            ],
            "text/plain": [
              "<IPython.core.display.HTML object>"
            ]
          },
          "metadata": {
            "tags": []
          }
        },
        {
          "output_type": "stream",
          "text": [
            "Saving P9-ConsumerComplaints.csv to P9-ConsumerComplaints.csv\n"
          ],
          "name": "stdout"
        }
      ]
    },
    {
      "cell_type": "code",
      "metadata": {
        "colab": {
          "base_uri": "https://localhost:8080/"
        },
        "id": "ZlCQ8YuGqMVY",
        "outputId": "c54582a9-6390-4c4d-e537-2f6601cf3566"
      },
      "source": [
        "df=pd.read_csv('P9-ConsumerComplaints.csv')"
      ],
      "execution_count": null,
      "outputs": [
        {
          "output_type": "stream",
          "text": [
            "/usr/local/lib/python3.7/dist-packages/IPython/core/interactiveshell.py:2718: DtypeWarning: Columns (5,11) have mixed types.Specify dtype option on import or set low_memory=False.\n",
            "  interactivity=interactivity, compiler=compiler, result=result)\n"
          ],
          "name": "stderr"
        }
      ]
    },
    {
      "cell_type": "code",
      "metadata": {
        "id": "eHZ4qXJ6rbAK"
      },
      "source": [
        "#df.head()"
      ],
      "execution_count": null,
      "outputs": []
    },
    {
      "cell_type": "code",
      "metadata": {
        "colab": {
          "base_uri": "https://localhost:8080/"
        },
        "id": "7MZNkP8jrdUh",
        "outputId": "a9b5a61b-c6e3-4764-ac28-fcc7cc64271d"
      },
      "source": [
        "df.columns"
      ],
      "execution_count": null,
      "outputs": [
        {
          "output_type": "execute_result",
          "data": {
            "text/plain": [
              "Index(['Date Received', 'Product Name', 'Sub Product', 'Issue', 'Sub Issue',\n",
              "       'Consumer Complaint Narrative', 'Company Public Response', 'Company',\n",
              "       'State Name', 'Zip Code', 'Tags', 'Consumer Consent Provided',\n",
              "       'Submitted via', 'Date Sent to Company', 'Company Response to Consumer',\n",
              "       'Timely Response', 'Consumer Disputed', 'Complaint ID'],\n",
              "      dtype='object')"
            ]
          },
          "metadata": {
            "tags": []
          },
          "execution_count": 61
        }
      ]
    },
    {
      "cell_type": "code",
      "metadata": {
        "colab": {
          "base_uri": "https://localhost:8080/"
        },
        "id": "W0nPc8iWrlFu",
        "outputId": "e23f9ac9-64f4-4a49-f3b4-96945acadb27"
      },
      "source": [
        "df.shape"
      ],
      "execution_count": null,
      "outputs": [
        {
          "output_type": "execute_result",
          "data": {
            "text/plain": [
              "(65499, 18)"
            ]
          },
          "metadata": {
            "tags": []
          },
          "execution_count": 62
        }
      ]
    },
    {
      "cell_type": "markdown",
      "metadata": {
        "id": "sX5eTyZjX-sE"
      },
      "source": [
        "Import and install sql shell\n"
      ]
    },
    {
      "cell_type": "code",
      "metadata": {
        "id": "JS60uBLXroKN"
      },
      "source": [
        "#import sqlite3\n",
        "#!pip install ipython-sql"
      ],
      "execution_count": null,
      "outputs": []
    },
    {
      "cell_type": "markdown",
      "metadata": {
        "id": "N8nIuIolYEhI"
      },
      "source": [
        "###The next step is to create a database like you would do in mysql or any other sql engine. I have named this database complaints and connected it to sqlite3. If need be, i can added several other tables to this database.In the next cell, I added the table(angry) to the database(complaints)##### "
      ]
    },
    {
      "cell_type": "code",
      "metadata": {
        "id": "tV9XimkYsc0C"
      },
      "source": [
        "cnn=sqlite3.connect('complaints.db')"
      ],
      "execution_count": null,
      "outputs": []
    },
    {
      "cell_type": "code",
      "metadata": {
        "colab": {
          "base_uri": "https://localhost:8080/"
        },
        "id": "e2eImS4Hs4AH",
        "outputId": "9e361b0d-20a0-4278-8928-d0135e73c319"
      },
      "source": [
        "df.to_sql('angry',cnn)"
      ],
      "execution_count": null,
      "outputs": [
        {
          "output_type": "stream",
          "text": [
            "/usr/local/lib/python3.7/dist-packages/pandas/core/generic.py:2615: UserWarning: The spaces in these column names will not be changed. In pandas versions < 0.14, spaces were converted to underscores.\n",
            "  method=method,\n"
          ],
          "name": "stderr"
        }
      ]
    },
    {
      "cell_type": "markdown",
      "metadata": {
        "id": "NtWz4oMuZmMf"
      },
      "source": [
        "Loaded the sql extension and connected my created database."
      ]
    },
    {
      "cell_type": "code",
      "metadata": {
        "colab": {
          "base_uri": "https://localhost:8080/"
        },
        "id": "byehuTX9tVKL",
        "outputId": "a367b359-775d-4878-d133-6140adf06c58"
      },
      "source": [
        "%load_ext sql\n"
      ],
      "execution_count": null,
      "outputs": [
        {
          "output_type": "stream",
          "text": [
            "The sql extension is already loaded. To reload it, use:\n",
            "  %reload_ext sql\n"
          ],
          "name": "stdout"
        }
      ]
    },
    {
      "cell_type": "code",
      "metadata": {
        "colab": {
          "base_uri": "https://localhost:8080/",
          "height": 35
        },
        "id": "Uki0gLxEtxOE",
        "outputId": "f38bf9c6-ed1c-4c64-d94c-e5419c3b9d6d"
      },
      "source": [
        "%sql sqlite:///complaints.db"
      ],
      "execution_count": null,
      "outputs": [
        {
          "output_type": "execute_result",
          "data": {
            "application/vnd.google.colaboratory.intrinsic+json": {
              "type": "string"
            },
            "text/plain": [
              "'Connected: @complaints.db'"
            ]
          },
          "metadata": {
            "tags": []
          },
          "execution_count": 69
        }
      ]
    },
    {
      "cell_type": "markdown",
      "metadata": {
        "id": "MYHPFhvbZy9R"
      },
      "source": [
        "###Now we are set.\n",
        "In order to write the sql script successfully, we would use the cell magic %%sql before the select statement###"
      ]
    },
    {
      "cell_type": "code",
      "metadata": {
        "colab": {
          "base_uri": "https://localhost:8080/",
          "height": 333
        },
        "id": "LGiuNM3vuErL",
        "outputId": "360f4828-d6cd-4354-fcc4-3d484a1482fc"
      },
      "source": [
        "%%sql\n",
        "\n",
        "select * from angry limit 3"
      ],
      "execution_count": null,
      "outputs": [
        {
          "output_type": "stream",
          "text": [
            " * sqlite:///complaints.db\n",
            "Done.\n"
          ],
          "name": "stdout"
        },
        {
          "output_type": "execute_result",
          "data": {
            "text/html": [
              "<table>\n",
              "    <thead>\n",
              "        <tr>\n",
              "            <th>index</th>\n",
              "            <th>Date Received</th>\n",
              "            <th>Product Name</th>\n",
              "            <th>Sub Product</th>\n",
              "            <th>Issue</th>\n",
              "            <th>Sub Issue</th>\n",
              "            <th>Consumer Complaint Narrative</th>\n",
              "            <th>Company Public Response</th>\n",
              "            <th>Company</th>\n",
              "            <th>State Name</th>\n",
              "            <th>Zip Code</th>\n",
              "            <th>Tags</th>\n",
              "            <th>Consumer Consent Provided</th>\n",
              "            <th>Submitted via</th>\n",
              "            <th>Date Sent to Company</th>\n",
              "            <th>Company Response to Consumer</th>\n",
              "            <th>Timely Response</th>\n",
              "            <th>Consumer Disputed</th>\n",
              "            <th>Complaint ID</th>\n",
              "        </tr>\n",
              "    </thead>\n",
              "    <tbody>\n",
              "        <tr>\n",
              "            <td>0</td>\n",
              "            <td>2013-07-29</td>\n",
              "            <td>Consumer Loan</td>\n",
              "            <td>Vehicle loan</td>\n",
              "            <td>Managing the loan or lease</td>\n",
              "            <td>None</td>\n",
              "            <td>None</td>\n",
              "            <td>None</td>\n",
              "            <td>Wells Fargo &amp; Company</td>\n",
              "            <td>VA</td>\n",
              "            <td>24540</td>\n",
              "            <td>None</td>\n",
              "            <td>None</td>\n",
              "            <td>Phone</td>\n",
              "            <td>2013-07-30</td>\n",
              "            <td>Closed with explanation</td>\n",
              "            <td>Yes</td>\n",
              "            <td>No</td>\n",
              "            <td>468882</td>\n",
              "        </tr>\n",
              "        <tr>\n",
              "            <td>1</td>\n",
              "            <td>2013-07-29</td>\n",
              "            <td>Bank account or service</td>\n",
              "            <td>Checking account</td>\n",
              "            <td>Using a debit or ATM card</td>\n",
              "            <td>None</td>\n",
              "            <td>None</td>\n",
              "            <td>None</td>\n",
              "            <td>Wells Fargo &amp; Company</td>\n",
              "            <td>CA</td>\n",
              "            <td>95992</td>\n",
              "            <td>Older American</td>\n",
              "            <td>None</td>\n",
              "            <td>Web</td>\n",
              "            <td>2013-07-31</td>\n",
              "            <td>Closed with explanation</td>\n",
              "            <td>Yes</td>\n",
              "            <td>No</td>\n",
              "            <td>468889</td>\n",
              "        </tr>\n",
              "        <tr>\n",
              "            <td>2</td>\n",
              "            <td>2013-07-29</td>\n",
              "            <td>Bank account or service</td>\n",
              "            <td>Checking account</td>\n",
              "            <td>Account opening, closing, or management</td>\n",
              "            <td>None</td>\n",
              "            <td>None</td>\n",
              "            <td>None</td>\n",
              "            <td>Santander Bank US</td>\n",
              "            <td>NY</td>\n",
              "            <td>10065</td>\n",
              "            <td>None</td>\n",
              "            <td>None</td>\n",
              "            <td>Fax</td>\n",
              "            <td>2013-07-31</td>\n",
              "            <td>Closed</td>\n",
              "            <td>Yes</td>\n",
              "            <td>No</td>\n",
              "            <td>468879</td>\n",
              "        </tr>\n",
              "    </tbody>\n",
              "</table>"
            ],
            "text/plain": [
              "[(0, '2013-07-29', 'Consumer Loan', 'Vehicle loan', 'Managing the loan or lease', None, None, None, 'Wells Fargo & Company', 'VA', '24540', None, None, 'Phone', '2013-07-30', 'Closed with explanation', 'Yes', 'No', 468882),\n",
              " (1, '2013-07-29', 'Bank account or service', 'Checking account', 'Using a debit or ATM card', None, None, None, 'Wells Fargo & Company', 'CA', '95992', 'Older American', None, 'Web', '2013-07-31', 'Closed with explanation', 'Yes', 'No', 468889),\n",
              " (2, '2013-07-29', 'Bank account or service', 'Checking account', 'Account opening, closing, or management', None, None, None, 'Santander Bank US', 'NY', '10065', None, None, 'Fax', '2013-07-31', 'Closed', 'Yes', 'No', 468879)]"
            ]
          },
          "metadata": {
            "tags": []
          },
          "execution_count": 83
        }
      ]
    },
    {
      "cell_type": "markdown",
      "metadata": {
        "id": "xqOHBTd9GQ_7"
      },
      "source": [
        "**QUESTION 1**: FIND OUT HOW MANY COMPLAINTS WERE RECEIVED AND SENT ON THE SAME DAY?"
      ]
    },
    {
      "cell_type": "code",
      "metadata": {
        "colab": {
          "base_uri": "https://localhost:8080/",
          "height": 97
        },
        "id": "XcCNFstyGQcF",
        "outputId": "2feacf89-5d29-4a55-a569-e60118b10dc4"
      },
      "source": [
        "%%sql\n",
        "\n",
        "SELECT count  ([Complaint ID]) as number_of_complaints\n",
        "FROM angry \n",
        "WHERE [Date Received]=[Date Sent to Company]\n"
      ],
      "execution_count": null,
      "outputs": [
        {
          "output_type": "stream",
          "text": [
            " * sqlite:///complaints.db\n",
            "Done.\n"
          ],
          "name": "stdout"
        },
        {
          "output_type": "execute_result",
          "data": {
            "text/html": [
              "<table>\n",
              "    <thead>\n",
              "        <tr>\n",
              "            <th>number_of_complaints</th>\n",
              "        </tr>\n",
              "    </thead>\n",
              "    <tbody>\n",
              "        <tr>\n",
              "            <td>28737</td>\n",
              "        </tr>\n",
              "    </tbody>\n",
              "</table>"
            ],
            "text/plain": [
              "[(28737,)]"
            ]
          },
          "metadata": {
            "tags": []
          },
          "execution_count": 105
        }
      ]
    },
    {
      "cell_type": "markdown",
      "metadata": {
        "id": "MEFV_fmiaW54"
      },
      "source": [
        "**QUESTION 2** Extract the complaints received in the state of new york\n",
        "\n",
        "*##nb: i used a square bracket on column names with space as this version of python didn't add an auto _(underscore) and with column spaces your query will return an error#########*"
      ]
    },
    {
      "cell_type": "code",
      "metadata": {
        "colab": {
          "base_uri": "https://localhost:8080/",
          "height": 139
        },
        "id": "R4yWJMavHhPl",
        "outputId": "961b7fb9-5b95-41b0-87ca-47af7514a82d"
      },
      "source": [
        "%%sql\n",
        "\n",
        "SELECT [Complaint ID],Issue,[State Name]\n",
        "From angry\n",
        "WHERE [State Name]='NY' LIMIT 3"
      ],
      "execution_count": null,
      "outputs": [
        {
          "output_type": "stream",
          "text": [
            " * sqlite:///complaints.db\n",
            "Done.\n"
          ],
          "name": "stdout"
        },
        {
          "output_type": "execute_result",
          "data": {
            "text/html": [
              "<table>\n",
              "    <thead>\n",
              "        <tr>\n",
              "            <th>Complaint ID</th>\n",
              "            <th>Issue</th>\n",
              "            <th>State Name</th>\n",
              "        </tr>\n",
              "    </thead>\n",
              "    <tbody>\n",
              "        <tr>\n",
              "            <td>468879</td>\n",
              "            <td>Account opening, closing, or management</td>\n",
              "            <td>NY</td>\n",
              "        </tr>\n",
              "        <tr>\n",
              "            <td>469057</td>\n",
              "            <td>Loan modification,collection,foreclosure</td>\n",
              "            <td>NY</td>\n",
              "        </tr>\n",
              "        <tr>\n",
              "            <td>469070</td>\n",
              "            <td>Loan modification,collection,foreclosure</td>\n",
              "            <td>NY</td>\n",
              "        </tr>\n",
              "    </tbody>\n",
              "</table>"
            ],
            "text/plain": [
              "[(468879, 'Account opening, closing, or management', 'NY'),\n",
              " (469057, 'Loan modification,collection,foreclosure', 'NY'),\n",
              " (469070, 'Loan modification,collection,foreclosure', 'NY')]"
            ]
          },
          "metadata": {
            "tags": []
          },
          "execution_count": 138
        }
      ]
    },
    {
      "cell_type": "markdown",
      "metadata": {
        "id": "_bHlC-upbJ4Q"
      },
      "source": [
        "**QUESTION 3** Extract the complaints received in the state of new york and california"
      ]
    },
    {
      "cell_type": "code",
      "metadata": {
        "colab": {
          "base_uri": "https://localhost:8080/",
          "height": 118
        },
        "id": "s3eknH9FNCXg",
        "outputId": "1ed7f890-7cac-4bff-cb07-4d9613624d54"
      },
      "source": [
        "%%sql\n",
        "\n",
        "SELECT [Complaint ID],Issue,[State Name]\n",
        "From angry\n",
        "WHERE  [State Name] in ('NY','CA')\n",
        "ORDER BY 3 LIMIT 2"
      ],
      "execution_count": null,
      "outputs": [
        {
          "output_type": "stream",
          "text": [
            " * sqlite:///complaints.db\n",
            "Done.\n"
          ],
          "name": "stdout"
        },
        {
          "output_type": "execute_result",
          "data": {
            "text/html": [
              "<table>\n",
              "    <thead>\n",
              "        <tr>\n",
              "            <th>Complaint ID</th>\n",
              "            <th>Issue</th>\n",
              "            <th>State Name</th>\n",
              "        </tr>\n",
              "    </thead>\n",
              "    <tbody>\n",
              "        <tr>\n",
              "            <td>468889</td>\n",
              "            <td>Using a debit or ATM card</td>\n",
              "            <td>CA</td>\n",
              "        </tr>\n",
              "        <tr>\n",
              "            <td>469284</td>\n",
              "            <td>Loan servicing, payments, escrow account</td>\n",
              "            <td>CA</td>\n",
              "        </tr>\n",
              "    </tbody>\n",
              "</table>"
            ],
            "text/plain": [
              "[(468889, 'Using a debit or ATM card', 'CA'),\n",
              " (469284, 'Loan servicing, payments, escrow account', 'CA')]"
            ]
          },
          "metadata": {
            "tags": []
          },
          "execution_count": 130
        }
      ]
    },
    {
      "cell_type": "markdown",
      "metadata": {
        "id": "jBUcC77TbO8_"
      },
      "source": [
        "**QUESTION 4** Extract all rows with the word \"Credit\" in the product field"
      ]
    },
    {
      "cell_type": "code",
      "metadata": {
        "colab": {
          "base_uri": "https://localhost:8080/",
          "height": 182
        },
        "id": "iV5TDP5KLn3N",
        "outputId": "edc938d7-bd01-469d-d3a2-9fa8d5d182ad"
      },
      "source": [
        "%%sql\n",
        "\n",
        "select [Complaint ID], [Product Name]\n",
        "from angry\n",
        "where [Product Name] like '%Credit%' limit 5"
      ],
      "execution_count": null,
      "outputs": [
        {
          "output_type": "stream",
          "text": [
            " * sqlite:///complaints.db\n",
            "Done.\n"
          ],
          "name": "stdout"
        },
        {
          "output_type": "execute_result",
          "data": {
            "text/html": [
              "<table>\n",
              "    <thead>\n",
              "        <tr>\n",
              "            <th>Complaint ID</th>\n",
              "            <th>Product Name</th>\n",
              "        </tr>\n",
              "    </thead>\n",
              "    <tbody>\n",
              "        <tr>\n",
              "            <td>469026</td>\n",
              "            <td>Credit card</td>\n",
              "        </tr>\n",
              "        <tr>\n",
              "            <td>469131</td>\n",
              "            <td>Credit card</td>\n",
              "        </tr>\n",
              "        <tr>\n",
              "            <td>474204</td>\n",
              "            <td>Credit reporting</td>\n",
              "        </tr>\n",
              "        <tr>\n",
              "            <td>469201</td>\n",
              "            <td>Credit reporting</td>\n",
              "        </tr>\n",
              "        <tr>\n",
              "            <td>479990</td>\n",
              "            <td>Credit card</td>\n",
              "        </tr>\n",
              "    </tbody>\n",
              "</table>"
            ],
            "text/plain": [
              "[(469026, 'Credit card'),\n",
              " (469131, 'Credit card'),\n",
              " (474204, 'Credit reporting'),\n",
              " (469201, 'Credit reporting'),\n",
              " (479990, 'Credit card')]"
            ]
          },
          "metadata": {
            "tags": []
          },
          "execution_count": 140
        }
      ]
    },
    {
      "cell_type": "markdown",
      "metadata": {
        "id": "c-15PW0BbjrH"
      },
      "source": [
        "**QUESTION 5** Extract all rows with the word \"Late\" in the product field\n",
        "\n",
        "\n"
      ]
    },
    {
      "cell_type": "code",
      "metadata": {
        "colab": {
          "base_uri": "https://localhost:8080/",
          "height": 182
        },
        "id": "z-q0TBFGVYv_",
        "outputId": "e97e193c-5293-4d4f-bf4b-cdbb2569f1cf"
      },
      "source": [
        "%%sql\n",
        "\n",
        "select [Complaint ID], [Issue]\n",
        "from angry\n",
        "where [Issue] like '%Late%' Limit 5"
      ],
      "execution_count": null,
      "outputs": [
        {
          "output_type": "stream",
          "text": [
            " * sqlite:///complaints.db\n",
            "Done.\n"
          ],
          "name": "stdout"
        },
        {
          "output_type": "execute_result",
          "data": {
            "text/html": [
              "<table>\n",
              "    <thead>\n",
              "        <tr>\n",
              "            <th>Complaint ID</th>\n",
              "            <th>Issue</th>\n",
              "        </tr>\n",
              "    </thead>\n",
              "    <tbody>\n",
              "        <tr>\n",
              "            <td>471204</td>\n",
              "            <td>Late fee</td>\n",
              "        </tr>\n",
              "        <tr>\n",
              "            <td>463829</td>\n",
              "            <td>Late fee</td>\n",
              "        </tr>\n",
              "        <tr>\n",
              "            <td>488956</td>\n",
              "            <td>Late fee</td>\n",
              "        </tr>\n",
              "        <tr>\n",
              "            <td>492046</td>\n",
              "            <td>Late fee</td>\n",
              "        </tr>\n",
              "        <tr>\n",
              "            <td>492446</td>\n",
              "            <td>Late fee</td>\n",
              "        </tr>\n",
              "    </tbody>\n",
              "</table>"
            ],
            "text/plain": [
              "[(471204, 'Late fee'),\n",
              " (463829, 'Late fee'),\n",
              " (488956, 'Late fee'),\n",
              " (492046, 'Late fee'),\n",
              " (492446, 'Late fee')]"
            ]
          },
          "metadata": {
            "tags": []
          },
          "execution_count": 141
        }
      ]
    },
    {
      "cell_type": "markdown",
      "metadata": {
        "id": "AxP5DOS0bvr7"
      },
      "source": [
        "**THE END**\n",
        "\n",
        "twitter: @tu_babs\n",
        "Linkedin:https://www.linkedin.com/in/mosesotu"
      ]
    },
    {
      "cell_type": "code",
      "metadata": {
        "id": "As0fFu2_V05a"
      },
      "source": [
        ""
      ],
      "execution_count": null,
      "outputs": []
    }
  ]
}